{
 "cells": [
  {
   "cell_type": "markdown",
   "id": "c41b2263",
   "metadata": {},
   "source": [
    "# **Configuracion de la simulacion**"
   ]
  },
  {
   "cell_type": "markdown",
   "id": "9913b44b",
   "metadata": {},
   "source": [
    "Ponerse en la carpeta raiz"
   ]
  },
  {
   "cell_type": "code",
   "execution_count": 1,
   "id": "c6a96f40",
   "metadata": {},
   "outputs": [
    {
     "name": "stdout",
     "output_type": "stream",
     "text": [
      "c:\\Users\\pablomaga\\Documents\\GitHub\\Trabajo-DOM\n"
     ]
    }
   ],
   "source": [
    "import os\n",
    "\n",
    "current_folder = os.path.basename(os.getcwd())\n",
    "if current_folder == \"optimizaciones\":\n",
    "    os.chdir(\"..\")\n",
    "    print(os.getcwd())\n",
    "else:\n",
    "    print(\"Ya estás en la carpeta TRABAJO-DOM\")"
   ]
  },
  {
   "cell_type": "markdown",
   "id": "ada55cbd",
   "metadata": {},
   "source": [
    "Importar librerias"
   ]
  },
  {
   "cell_type": "code",
   "execution_count": 2,
   "id": "3932fac6",
   "metadata": {},
   "outputs": [],
   "source": [
    "#### IMPORTAR LIBRERIAS ####\n",
    "from src.models.car import Car # Modelo del coche\n",
    "from src.models.track import Track # Modelo de la pista\n",
    "from src.models.aero import Aero\n",
    "from src.simulator.lap_simulator import LapSimulator # Simulador de vuelta\n",
    "\n",
    "# Librerias para graficar\n",
    "import matplotlib.pyplot as plt"
   ]
  },
  {
   "cell_type": "markdown",
   "id": "5db7da22",
   "metadata": {},
   "source": [
    "# **Configuracion de la optimización**"
   ]
  },
  {
   "cell_type": "markdown",
   "id": "b15dacc3",
   "metadata": {},
   "source": [
    "Estos parámetros son ***FIJOS***. Iniciad siempre los modelos de ```Car``` y ```Aero``` con esto"
   ]
  },
  {
   "cell_type": "code",
   "execution_count": 3,
   "id": "31d442d0",
   "metadata": {},
   "outputs": [],
   "source": [
    "mass = 800               # kg, masa típica de un F1 en carrera\n",
    "tire_grip = 1.7          # coeficiente de agarre elevado para neumáticos especializados\n",
    "power = 600000           # W, potencia equivalente a unos 1000 CV aproximadamente\n",
    "brake_force = 45000     # N, fuerza de frenado potente\n",
    "\n",
    "fw_area = 1.8            # m², área del ala frontal\n",
    "rw_area = 1.3            # m², área del ala trasera\n",
    "\n",
    "cl_alpha_front = 0.25     # incremento de coeficiente de downforce por grado del ala frontal\n",
    "cl_alpha_rear = 0.3      # incremento de coeficiente de downforce por grado del ala trasera\n",
    "cd_alpha_front = 0.08     # incremento de coeficiente de resistencia aerodinámica del ala frontal\n",
    "cd_alpha_rear = 0.06     # incremento de coeficiente de resistencia aerodinámica del ala trasera\n",
    "\n",
    "brake_bias = 0.6          # distribución de frenado entre el eje delantero y trasero\n",
    "wheelbase = 3.0            # m, distancia entre ejes\n",
    "h_cg = 0.3                 # m, altura del centro de gravedad"
   ]
  },
  {
   "cell_type": "markdown",
   "id": "9b6c3d6f",
   "metadata": {},
   "source": [
    "Construimos el objeto de ```Aero```"
   ]
  },
  {
   "cell_type": "code",
   "execution_count": 4,
   "id": "9cece83b",
   "metadata": {},
   "outputs": [],
   "source": [
    "aero = Aero(cl_alpha_front = cl_alpha_front, \n",
    "            cl_alpha_rear = cl_alpha_rear, \n",
    "            cd_alpha_front = cd_alpha_front, \n",
    "            cd_alpha_rear = cd_alpha_rear, \n",
    "            fw_area = fw_area, \n",
    "            rw_area = rw_area,\n",
    "        )"
   ]
  },
  {
   "cell_type": "markdown",
   "id": "a2d593b4",
   "metadata": {},
   "source": [
    "***Definimos los ángulos de ataque de los alerones, que son una de las cosas mas importantes en la optimizacion***"
   ]
  },
  {
   "cell_type": "code",
   "execution_count": 5,
   "id": "3dd37b08",
   "metadata": {},
   "outputs": [],
   "source": [
    "aero.aoa_front = 7\n",
    "aero.aoa_rear = 5"
   ]
  },
  {
   "cell_type": "markdown",
   "id": "becc7c72",
   "metadata": {},
   "source": [
    "Creamos el coche"
   ]
  },
  {
   "cell_type": "code",
   "execution_count": 6,
   "id": "38fa971e",
   "metadata": {},
   "outputs": [],
   "source": [
    "car = Car(mass = mass, \n",
    "          tire_grip = tire_grip, \n",
    "          power = power, \n",
    "          brake_force = brake_force, \n",
    "          aero = aero,\n",
    "          brake_bias = brake_bias,\n",
    "          wheelbase = wheelbase,\n",
    "          h_cg = h_cg,\n",
    "        )"
   ]
  },
  {
   "cell_type": "markdown",
   "id": "4b06f3ae",
   "metadata": {},
   "source": [
    "Cargamos el circuito"
   ]
  },
  {
   "cell_type": "code",
   "execution_count": 7,
   "id": "173175ce",
   "metadata": {},
   "outputs": [],
   "source": [
    "track = Track.from_json(\"track.json\")"
   ]
  },
  {
   "cell_type": "markdown",
   "id": "441076e0",
   "metadata": {},
   "source": [
    "Y finalmente creamos el simulador"
   ]
  },
  {
   "cell_type": "code",
   "execution_count": 8,
   "id": "5da8a66c",
   "metadata": {},
   "outputs": [],
   "source": [
    "simulator = LapSimulator(car, track)"
   ]
  },
  {
   "cell_type": "markdown",
   "id": "1becd4b8",
   "metadata": {},
   "source": [
    "***ESTO QUE HE HECHO HASTA AHORA NO LO TENEIS QUE CAMBIAR, HACEDLO SIEMPRE ASÍ (salvo que queráis modificar alguno de los parámetros fijos por algún motivo)***"
   ]
  },
  {
   "cell_type": "markdown",
   "id": "22ce52fb",
   "metadata": {},
   "source": [
    "# ***PRIMERA OPTIMIZACION: Solo un alerón***"
   ]
  },
  {
   "cell_type": "markdown",
   "id": "c3e41253",
   "metadata": {},
   "source": [
    "Dejas fijo todos los parametros, y solo optimizas el angulo del aleron delantero. La funcion es la siguiente"
   ]
  },
  {
   "cell_type": "code",
   "execution_count": 9,
   "id": "6785e3a9",
   "metadata": {},
   "outputs": [],
   "source": [
    "# La funcion seria esta\n",
    "def f1(aoa_front):\n",
    "    aero.aoa_front = aoa_front[0]\n",
    "    lap_time, _ = simulator.simulate_lap()\n",
    "    return lap_time"
   ]
  },
  {
   "cell_type": "code",
   "execution_count": 10,
   "id": "448b36bd",
   "metadata": {},
   "outputs": [
    {
     "name": "stderr",
     "output_type": "stream",
     "text": [
      "c:\\Users\\pablomaga\\Documents\\GitHub\\Trabajo-DOM\\src\\models\\car.py:110: RuntimeWarning: overflow encountered in scalar multiply\n",
      "  vmax = (grip_force * radius / self.mass) ** 0.5\n"
     ]
    },
    {
     "name": "stdout",
     "output_type": "stream",
     "text": [
      "Ángulo óptimo del alerón delantero: 2.2694299258096318\n",
      "Tiempo de vuelta mínimo: 92.47180585844826\n"
     ]
    }
   ],
   "source": [
    "from scipy.optimize import minimize\n",
    "\n",
    "# Definimos un valor inicial para el ángulo del alerón delantero\n",
    "aoa_front_init = 8\n",
    "\n",
    "# Realizamos la optimización\n",
    "result = minimize(f1, x0=aoa_front_init, bounds=[(0, 18)], method='L-BFGS-B')  # Puedes cambiar 'L-BFGS-B' por otro algoritmo como 'TNC', 'Powell', etc.\n",
    "\n",
    "print(\"Ángulo óptimo del alerón delantero:\", result.x[0])\n",
    "print(\"Tiempo de vuelta mínimo:\", result.fun)"
   ]
  },
  {
   "cell_type": "markdown",
   "id": "6193ab6e",
   "metadata": {},
   "source": [
    "Cosas para cambiar:\n",
    "- Probar varios methodos (parámetro ```method```. preguntarle a chatgpt)\n",
    "- Cambiar parámetros arriba (rollo ver cómo afecta la masa, etc)\n",
    "- Cambiar el circuito\n",
    "- Cambiar la condición inicial (en este caso, se va a ver que no afecta cambiar la condición inicial porque es un problema convexo)"
   ]
  },
  {
   "cell_type": "code",
   "execution_count": 11,
   "id": "74a7f198",
   "metadata": {},
   "outputs": [
    {
     "name": "stderr",
     "output_type": "stream",
     "text": [
      "No artists with labels found to put in legend.  Note that artists whose label start with an underscore are ignored when legend() is called with no argument.\n"
     ]
    },
    {
     "data": {
      "image/png": "[encoded data removed]",
      "text/plain": [
       "<Figure size 640x480 with 1 Axes>"
      ]
     },
     "metadata": {},
     "output_type": "display_data"
    }
   ],
   "source": [
    "simulator.plot_lap()\n",
    "plt.show()"
   ]
  },
  {
   "cell_type": "markdown",
   "id": "6a3e1388",
   "metadata": {},
   "source": [
    "# ***SEGUNDA OPTIMIZACION: Ambos alerones + brake bias***"
   ]
  },
  {
   "cell_type": "markdown",
   "id": "68d4e5ea",
   "metadata": {},
   "source": [
    "Ahora, la funcion a optimizar es la siguiente"
   ]
  },
  {
   "cell_type": "code",
   "execution_count": 12,
   "id": "aa3a0cb8",
   "metadata": {},
   "outputs": [],
   "source": [
    "def f2(x):\n",
    "    \"\"\"\n",
    "    x es un vector de 3 elementos\n",
    "    x[0] = aoa_front\n",
    "    x[1] = aoa_rear\n",
    "    x[2] = brake_bias\n",
    "    x[3] = fw_area\n",
    "    x[4] = rw_area\n",
    "    \"\"\"\n",
    "    \n",
    "    aoa_front = x[0]\n",
    "    aoa_rear = x[1]\n",
    "    brake_bias = x[2]\n",
    "    fw_area = x[3]\n",
    "    rw_area = x[4]\n",
    "\n",
    "    aero.aoa_front = aoa_front\n",
    "    aero.aoa_rear = aoa_rear\n",
    "    car.brake_bias = brake_bias\n",
    "    aero.fw_area = fw_area\n",
    "    aero.rw_area = rw_area\n",
    "    \n",
    "    lap_time, _ = simulator.simulate_lap()\n",
    "    return lap_time"
   ]
  },
  {
   "cell_type": "code",
   "execution_count": 13,
   "id": "be65929d",
   "metadata": {},
   "outputs": [
    {
     "name": "stdout",
     "output_type": "stream",
     "text": [
      "2.2694299358096317\n"
     ]
    }
   ],
   "source": [
    "print(aero.aoa_front)"
   ]
  },
  {
   "cell_type": "code",
   "execution_count": 14,
   "id": "58b8e9d5",
   "metadata": {},
   "outputs": [
    {
     "name": "stdout",
     "output_type": "stream",
     "text": [
      "Ángulo óptimo del alerón delantero: 2.1439335179995607\n",
      "Ángulo óptimo del alerón trasero: 4.437232982160598\n",
      "Brake bias óptimo: 0.6699946058920168\n",
      "Tiempo de vuelta mínimo: 91.60061554842592\n",
      "Área frontal óptima: 2.0\n",
      "Área trasera óptima: 1.5\n"
     ]
    }
   ],
   "source": [
    "# Valores iniciales para aoa_front, aoa_rear y brake_bias\n",
    "# Valores iniciales para aoa_front, aoa_rear y brake_bias\n",
    "aoa_front_init = 10    # Ángulo inicial del alerón delantero\n",
    "aoa_rear_init = 1     # Ángulo inicial del alerón trasero\n",
    "brake_bias_init = 0.5 # Valor inicial de brake bias\n",
    "fw_area = 1.4\n",
    "rw_area = 1.4\n",
    "\n",
    "x0 = [aoa_front_init, aoa_rear_init, brake_bias_init, fw_area, rw_area]\n",
    "\n",
    "# Definimos los límites para cada variable\n",
    "bounds = [(1, 18),   # aoa_front\n",
    "          (1, 18),   # aoa_rear\n",
    "          (0.3, 0.7), # brake_bias \n",
    "          (0.5, 2),  # fw_area \n",
    "          (0.5, 1.5)   # rw_area \n",
    "         ]\n",
    "\n",
    "# Realizamos la optimización\n",
    "result2 = minimize(f2, x0=x0, bounds=bounds)\n",
    "\n",
    "print(\"Ángulo óptimo del alerón delantero:\", result2.x[0])\n",
    "print(\"Ángulo óptimo del alerón trasero:\", result2.x[1])\n",
    "print(\"Brake bias óptimo:\", result2.x[2])\n",
    "print(\"Tiempo de vuelta mínimo:\", result2.fun)\n",
    "print(\"Área frontal óptima:\", result2.x[3])\n",
    "print(\"Área trasera óptima:\", result2.x[4])"
   ]
  },
  {
   "cell_type": "code",
   "execution_count": 15,
   "id": "e37ff6c4",
   "metadata": {},
   "outputs": [
    {
     "name": "stderr",
     "output_type": "stream",
     "text": [
      "No artists with labels found to put in legend.  Note that artists whose label start with an underscore are ignored when legend() is called with no argument.\n"
     ]
    },
    {
     "data": {
      "image/png": "[encoded data removed]",
      "text/plain": [
       "<Figure size 640x480 with 1 Axes>"
      ]
     },
     "metadata": {},
     "output_type": "display_data"
    }
   ],
   "source": [
    "simulator.plot_lap()\n",
    "plt.show()"
   ]
  }
 ],
 "metadata": {
  "kernelspec": {
   "display_name": "Python 3",
   "language": "python",
   "name": "python3"
  },
  "language_info": {
   "codemirror_mode": {
    "name": "ipython",
    "version": 3
   },
   "file_extension": ".py",
   "mimetype": "text/x-python",
   "name": "python",
   "nbconvert_exporter": "python",
   "pygments_lexer": "ipython3",
   "version": "3.12.3"
  }
 },
 "nbformat": 4,
 "nbformat_minor": 5
}

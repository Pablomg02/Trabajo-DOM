{
 "cells": [
  {
   "cell_type": "markdown",
   "id": "56f33ecb",
   "metadata": {},
   "source": [
    "En primer lugar, se tiene que cambiar la carpeta en la que se ejecuta el código. Esto se utiliza para que, a la hora de importar las librerias, el código sepa dónde está la carpeta src.\n",
    "\n",
    "El siguiente bloque de codigo solo debe ser ejecutado una vez. El objetivo es que el print sea la carpeta raiz del repositorio"
   ]
  },
  {
   "cell_type": "code",
   "execution_count": 40,
   "id": "2e3854a1",
   "metadata": {},
   "outputs": [
    {
     "name": "stdout",
     "output_type": "stream",
     "text": [
      "Ya estás en la carpeta TRABAJO-DOM\n"
     ]
    }
   ],
   "source": [
    "import os\n",
    "\n",
    "current_folder = os.path.basename(os.getcwd())\n",
    "if current_folder == \"optimizaciones\":\n",
    "    os.chdir(\"..\")\n",
    "    print(os.getcwd())\n",
    "else:\n",
    "    print(\"Ya estás en la carpeta TRABAJO-DOM\")"
   ]
  },
  {
   "cell_type": "markdown",
   "id": "4389f533",
   "metadata": {},
   "source": [
    "Se importan las librerias"
   ]
  },
  {
   "cell_type": "code",
   "execution_count": 41,
   "id": "58e65436",
   "metadata": {},
   "outputs": [],
   "source": [
    "#### IMPORTAR LIBRERIAS ####\n",
    "from src.models.car import Car # Modelo del coche\n",
    "from src.models.track import Track # Modelo de la pista\n",
    "from src.models.aero import Aero\n",
    "from src.simulator.lap_simulator import LapSimulator # Simulador de vuelta\n",
    "\n",
    "# Librerias para graficar\n",
    "import matplotlib.pyplot as plt\n",
    "\n",
    "# Librerias para el manejo de datos\n",
    "import numpy as np"
   ]
  },
  {
   "cell_type": "code",
   "execution_count": 42,
   "id": "0f9f9e19",
   "metadata": {},
   "outputs": [],
   "source": [
    "mass = 800               # kg, masa típica de un F1 en carrera\n",
    "tire_grip = 1.7          # coeficiente de agarre elevado para neumáticos especializados\n",
    "power = 600000           # W, potencia equivalente a unos 1000 CV aproximadamente\n",
    "brake_force = 45000     # N, fuerza de frenado potente\n",
    "\n",
    "fw_area = 1.7            # m², área del ala frontal\n",
    "rw_area = 1.8            # m², área del ala trasera\n",
    "\n",
    "cl_alpha_front = 0.3     # incremento de coeficiente de downforce por grado del ala frontal\n",
    "cl_alpha_rear = 0.4      # incremento de coeficiente de downforce por grado del ala trasera\n",
    "cd_alpha_front = 0.12     # incremento de coeficiente de resistencia aerodinámica del ala frontal\n",
    "cd_alpha_rear = 0.1     # incremento de coeficiente de resistencia aerodinámica del ala trasera\n",
    "\n",
    "brake_bias = 0.6          # distribución de frenado entre el eje delantero y trasero\n",
    "wheelbase = 3.0            # m, distancia entre ejes\n",
    "h_cg = 0.3                 # m, altura del centro de gravedad"
   ]
  },
  {
   "cell_type": "markdown",
   "id": "19515601",
   "metadata": {},
   "source": [
    "Se definen, a continuacion, las caracteristicas aerodinamicas del coche. Esto son parámetros FIJOS, los que no cambian durante la optimización. Por otro lado, la manera de cambiar las cosas que se optimizan (que son los ángulos de ataque) se definen luego\n",
    "\n"
   ]
  },
  {
   "cell_type": "code",
   "execution_count": 43,
   "id": "77122c96",
   "metadata": {},
   "outputs": [],
   "source": [
    "aero = Aero(cl_alpha_front = cl_alpha_front, \n",
    "            cl_alpha_rear = cl_alpha_rear, \n",
    "            cd_alpha_front = cd_alpha_front, \n",
    "            cd_alpha_rear = cd_alpha_rear, \n",
    "            fw_area = fw_area, \n",
    "            rw_area = rw_area,\n",
    "        )"
   ]
  },
  {
   "cell_type": "markdown",
   "id": "841aef42",
   "metadata": {},
   "source": [
    "No obstante, si luego se quisiese cambiar alguno de estos parámetros, obviamente se podría. Solo habría que escribir lo siguiente:\n",
    "\n",
    "```python\n",
    "aero.fw_area = 1.7\n",
    "```"
   ]
  },
  {
   "cell_type": "markdown",
   "id": "88d6542f",
   "metadata": {},
   "source": [
    "Ahora, defines los parámetros del coche, incluso los que se van a optimizar"
   ]
  },
  {
   "cell_type": "code",
   "execution_count": 44,
   "id": "64b6f43f",
   "metadata": {},
   "outputs": [],
   "source": [
    "car = Car(mass = mass, \n",
    "          tire_grip = tire_grip, \n",
    "          power = power, \n",
    "          brake_force = brake_force, \n",
    "          aero = aero,\n",
    "          brake_bias = brake_bias,\n",
    "          wheelbase = wheelbase,\n",
    "          h_cg = h_cg,\n",
    "        )"
   ]
  },
  {
   "cell_type": "markdown",
   "id": "9f55b61a",
   "metadata": {},
   "source": [
    "Lo único que se debe cambiar para llevar la optimización, es el valor del parámetro a optimizar. Por ejemplo, si quisiéramos optimizar (por algún motivo ilógico dada su trivialidad) la masa, solo habría que hacer lo siguiente:"
   ]
  },
  {
   "cell_type": "code",
   "execution_count": 45,
   "id": "42c483d0",
   "metadata": {},
   "outputs": [
    {
     "name": "stdout",
     "output_type": "stream",
     "text": [
      "Masa del coche: 800 kg\n",
      "Masa del coche: 800 kg\n"
     ]
    }
   ],
   "source": [
    "print(f\"Masa del coche: {car.mass} kg\") \n",
    "car.mass = 800 # cambio de masa\n",
    "print(f\"Masa del coche: {car.mass} kg\")"
   ]
  },
  {
   "cell_type": "markdown",
   "id": "c551b27a",
   "metadata": {},
   "source": [
    "***La aerodinámica se cambia de la siguiente forma (SOLO CAMBIAR AOA)***"
   ]
  },
  {
   "cell_type": "code",
   "execution_count": 46,
   "id": "335fb08e",
   "metadata": {},
   "outputs": [
    {
     "name": "stdout",
     "output_type": "stream",
     "text": [
      "Angulo de ataque: 15 grados\n",
      "Coeficiente de sustentación del alerón delantero: 4.5\n",
      "Angulo de ataque: 4 grados\n",
      "Coeficiente de sustentación del alerón delantero: 1.6\n"
     ]
    }
   ],
   "source": [
    "aero.aoa_front = 15 # Establecer el ángulo de ataque\n",
    "print(f\"Angulo de ataque: {aero.aoa_front} grados\")\n",
    "print(f\"Coeficiente de sustentación del alerón delantero: {aero.cl_front}\")\n",
    "\n",
    "aero.aoa_rear = 4 # Establecer el ángulo de ataque\n",
    "print(f\"Angulo de ataque: {aero.aoa_rear} grados\")\n",
    "print(f\"Coeficiente de sustentación del alerón delantero: {aero.cl_rear}\")"
   ]
  },
  {
   "cell_type": "markdown",
   "id": "e52cc4c7",
   "metadata": {},
   "source": [
    "**Recapitulando**\n",
    "\n",
    "Para cambiar los parámetros, se hace así:"
   ]
  },
  {
   "cell_type": "code",
   "execution_count": null,
   "id": "e1074a18",
   "metadata": {},
   "outputs": [],
   "source": [
    "car.mass = 800\n",
    "aero.aoa_front = 4 # Establecer el ángulo de ataque"
   ]
  },
  {
   "cell_type": "markdown",
   "id": "83b78e67",
   "metadata": {},
   "source": [
    "Para crear el circuito, se hace desde el archivo json"
   ]
  },
  {
   "cell_type": "code",
   "execution_count": 48,
   "id": "9f64edf1",
   "metadata": {},
   "outputs": [],
   "source": [
    "track = Track.from_json(\"track.json\")"
   ]
  },
  {
   "cell_type": "markdown",
   "id": "aea3498a",
   "metadata": {},
   "source": [
    "El simulador, finalmente, se hace creando el siguiente objeto"
   ]
  },
  {
   "cell_type": "code",
   "execution_count": 49,
   "id": "af236b91",
   "metadata": {},
   "outputs": [],
   "source": [
    "simulator = LapSimulator(car, track)"
   ]
  },
  {
   "cell_type": "markdown",
   "id": "f8b631f8",
   "metadata": {},
   "source": [
    "Para simular, simplemente se llama al siguiente metodo"
   ]
  },
  {
   "cell_type": "code",
   "execution_count": 50,
   "id": "652163dc",
   "metadata": {},
   "outputs": [
    {
     "name": "stdout",
     "output_type": "stream",
     "text": [
      "Tiempo de vuelta: 136.31090165995462 s\n"
     ]
    }
   ],
   "source": [
    "car.h_cg = 0.1 # Distribución de frenado entre el eje delantero y trasero\n",
    "\n",
    "lap_time, v = simulator.simulate_lap()\n",
    "\n",
    "# Mostrar el resultado por pantalla\n",
    "print(f\"Tiempo de vuelta: {lap_time} s\")"
   ]
  },
  {
   "cell_type": "markdown",
   "id": "754ca70e",
   "metadata": {},
   "source": [
    "A la hora de optimizar, lo unico que se necesita hacer es crear una función que **envuelva** a lo que estamos optimizando. Esto se llama *wrapper*, y se hace de la siguiente forma"
   ]
  },
  {
   "cell_type": "code",
   "execution_count": 51,
   "id": "245d1511",
   "metadata": {},
   "outputs": [
    {
     "name": "stdout",
     "output_type": "stream",
     "text": [
      "137.6744521072195\n"
     ]
    }
   ],
   "source": [
    "def f(aoa_front):\n",
    "    aero.aoa_front = aoa_front\n",
    "    lap_time, _ = simulator.simulate_lap()\n",
    "    return lap_time\n",
    "\n",
    "\n",
    "\"\"\"\n",
    "De esta forma, f es una función que depende de solo el angulo de ataque.\n",
    "Podemos usar scipy.optimize para encontrar el mínimo de f.\n",
    "\"\"\"\n",
    "\n",
    "resultado = f(13)  # Tiempo de vuelta con ángulo de ataque de 4 grados\n",
    "print(resultado)"
   ]
  },
  {
   "cell_type": "markdown",
   "id": "d7f5c598",
   "metadata": {},
   "source": [
    "Finalmente, si se quiere hacer un plot del resultado de una configuracion, solo hay que usar el metodo ```plot_lap```. Si se quieren hacer varios plots juntos, solo hay que hacer el primer plot, cambiar el parámetro que se quiera cambiar, y hacer otro plot. ```label``` sirve para poner una etiqueta a cada vuelta y que se puedan distinguir"
   ]
  },
  {
   "cell_type": "code",
   "execution_count": 52,
   "id": "3b52dfe6",
   "metadata": {},
   "outputs": [
    {
     "data": {
      "image/png": "[encoded data removed]",
      "text/plain": [
       "<Figure size 640x480 with 1 Axes>"
      ]
     },
     "metadata": {},
     "output_type": "display_data"
    }
   ],
   "source": [
    "simulator.plot_lap(label=\"Vuelta 1\")\n",
    "\n",
    "car.aero.aoa_front = 7 # Establecer el ángulo de ataque\n",
    "simulator.plot_lap(label=\"Vuelta 2\")\n",
    "plt.show()"
   ]
  }
 ],
 "metadata": {
  "kernelspec": {
   "display_name": "Python 3",
   "language": "python",
   "name": "python3"
  },
  "language_info": {
   "codemirror_mode": {
    "name": "ipython",
    "version": 3
   },
   "file_extension": ".py",
   "mimetype": "text/x-python",
   "name": "python",
   "nbconvert_exporter": "python",
   "pygments_lexer": "ipython3",
   "version": "3.12.3"
  }
 },
 "nbformat": 4,
 "nbformat_minor": 5
}
